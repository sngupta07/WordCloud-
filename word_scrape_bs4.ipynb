{
 "cells": [
  {
   "cell_type": "markdown",
   "metadata": {},
   "source": [
    "### Word Scraping using BeautifulSoup"
   ]
  },
  {
   "cell_type": "code",
   "execution_count": 1,
   "metadata": {},
   "outputs": [],
   "source": [
    "import numpy as np\n",
    "from bs4 import BeautifulSoup as bs \n",
    "from urllib import request"
   ]
  },
  {
   "cell_type": "code",
   "execution_count": 2,
   "metadata": {},
   "outputs": [
    {
     "data": {
      "text/plain": [
       "\u001b[1;31mInit signature:\u001b[0m \u001b[0mbs\u001b[0m\u001b[1;33m(\u001b[0m\u001b[0mmarkup\u001b[0m\u001b[1;33m=\u001b[0m\u001b[1;34m''\u001b[0m\u001b[1;33m,\u001b[0m \u001b[0mfeatures\u001b[0m\u001b[1;33m=\u001b[0m\u001b[1;32mNone\u001b[0m\u001b[1;33m,\u001b[0m \u001b[0mbuilder\u001b[0m\u001b[1;33m=\u001b[0m\u001b[1;32mNone\u001b[0m\u001b[1;33m,\u001b[0m \u001b[0mparse_only\u001b[0m\u001b[1;33m=\u001b[0m\u001b[1;32mNone\u001b[0m\u001b[1;33m,\u001b[0m \u001b[0mfrom_encoding\u001b[0m\u001b[1;33m=\u001b[0m\u001b[1;32mNone\u001b[0m\u001b[1;33m,\u001b[0m \u001b[0mexclude_encodings\u001b[0m\u001b[1;33m=\u001b[0m\u001b[1;32mNone\u001b[0m\u001b[1;33m,\u001b[0m \u001b[1;33m**\u001b[0m\u001b[0mkwargs\u001b[0m\u001b[1;33m)\u001b[0m\u001b[1;33m\u001b[0m\u001b[0m\n",
       "\u001b[1;31mDocstring:\u001b[0m     \n",
       "This class defines the basic interface called by the tree builders.\n",
       "\n",
       "These methods will be called by the parser:\n",
       "  reset()\n",
       "  feed(markup)\n",
       "\n",
       "The tree builder may call these methods from its feed() implementation:\n",
       "  handle_starttag(name, attrs) # See note about return value\n",
       "  handle_endtag(name)\n",
       "  handle_data(data) # Appends to the current data node\n",
       "  endData(containerClass=NavigableString) # Ends the current data node\n",
       "\n",
       "No matter how complicated the underlying parser is, you should be\n",
       "able to build a tree using 'start tag' events, 'end tag' events,\n",
       "'data' events, and \"done with data\" events.\n",
       "\n",
       "If you encounter an empty-element tag (aka a self-closing tag,\n",
       "like HTML's <br> tag), call handle_starttag and then\n",
       "handle_endtag.\n",
       "\u001b[1;31mInit docstring:\u001b[0m\n",
       "The Soup object is initialized as the 'root tag', and the\n",
       "provided markup (which can be a string or a file-like object)\n",
       "is fed into the underlying parser.\n",
       "\u001b[1;31mFile:\u001b[0m           c:\\users\\sngupta\\anaconda3\\lib\\site-packages\\bs4\\__init__.py\n",
       "\u001b[1;31mType:\u001b[0m           type\n"
      ]
     },
     "metadata": {},
     "output_type": "display_data"
    }
   ],
   "source": [
    "?bs #to know the detail of the package"
   ]
  },
  {
   "cell_type": "code",
   "execution_count": 3,
   "metadata": {},
   "outputs": [],
   "source": [
    "web= 'https://www.enchantedlearning.com/wordlist/newyear.shtml' #link from which the word scraped\n",
    "\n",
    "site= request.urlopen(web) #open the url\n",
    "data= site.read() #now read the url\n",
    "\n",
    "soup= bs(data, \"html.parser\") #create a soup of that page for easy search and work\n",
    "\n",
    "#The line below show how to access the different tag of the HTML using Beautiful Soup\n",
    "#Basically, Here I used those attributes or tags where the only word is present\n",
    "#Like that we can access any tags of HTML\n",
    "word= soup.find_all(\"div\", attrs= {\"class\": \"wordlist-item\"})"
   ]
  },
  {
   "cell_type": "code",
   "execution_count": 4,
   "metadata": {},
   "outputs": [
    {
     "name": "stdout",
     "output_type": "stream",
     "text": [
      "Auld Lang Syne\n",
      "baby\n",
      "ball\n",
      "balloons\n",
      "bubbly\n",
      "calendar\n",
      "celebrate\n",
      "celebration\n",
      "champagne\n",
      "cheers\n",
      "clock\n",
      "confetti\n",
      "countdown\n",
      "dancing\n",
      "day\n",
      "December\n",
      "eve\n",
      "evening\n",
      "extravaganza\n",
      "Father Time\n",
      "festivities\n",
      "firecrackers\n",
      "fireworks\n",
      "first\n",
      "flute\n",
      "games\n",
      "gathering\n",
      "goblet\n",
      "gown\n",
      "happy\n",
      "hat\n",
      "holiday\n",
      "horns\n",
      "hourglass\n",
      "in with the new\n",
      "invitation\n",
      "invite\n",
      "January\n",
      "kiss\n",
      "last\n",
      "memories\n",
      "merry-making\n",
      "midnight\n",
      "music\n",
      "new\n",
      "New Year\n",
      "New Year's Eve\n",
      "noise maker\n",
      "noisemaker\n",
      "old\n",
      "out with the old\n",
      "parade\n",
      "party\n",
      "resolution\n",
      "ring in the new year\n",
      "sparklers\n",
      "streamer\n",
      "stroke of midnight\n",
      "time\n",
      "Times Square\n",
      "toast\n",
      "tradition\n",
      "tuxedo\n",
      "twelve o'clock\n",
      "vow\n",
      "year\n"
     ]
    }
   ],
   "source": [
    "#Here, I just displayed the word those I scraped\n",
    "wd= []\n",
    "for i in word:\n",
    "    wd.append(i.text) #when you saw the content just after the scraping it shows HTML tags along with the text, that's why we used \".text\"\n",
    "                      #to extract only text\n",
    "    print(i.text)"
   ]
  },
  {
   "cell_type": "code",
   "execution_count": 5,
   "metadata": {},
   "outputs": [],
   "source": [
    "#Now save in text file for the further use\n",
    "file_name= 'word.txt'"
   ]
  },
  {
   "cell_type": "code",
   "execution_count": 6,
   "metadata": {},
   "outputs": [],
   "source": [
    "#Opened the file in write mode\n",
    "with open(file_name, mode= 'w') as f:\n",
    "    for w in wd:\n",
    "        f.write(w+', ')"
   ]
  },
  {
   "cell_type": "code",
   "execution_count": null,
   "metadata": {},
   "outputs": [],
   "source": []
  }
 ],
 "metadata": {
  "kernelspec": {
   "display_name": "Python 3",
   "language": "python",
   "name": "python3"
  },
  "language_info": {
   "codemirror_mode": {
    "name": "ipython",
    "version": 3
   },
   "file_extension": ".py",
   "mimetype": "text/x-python",
   "name": "python",
   "nbconvert_exporter": "python",
   "pygments_lexer": "ipython3",
   "version": "3.6.6"
  }
 },
 "nbformat": 4,
 "nbformat_minor": 2
}
